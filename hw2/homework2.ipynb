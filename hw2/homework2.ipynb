{
 "cells": [
  {
   "cell_type": "markdown",
   "metadata": {},
   "source": [
    "# Problem 1\n",
    "\n",
    "Prove that\n",
    "\n",
    "$$\\int_{-\\pi}^{\\pi}\\cos(nx)\\sin(mx)\\,\\textrm{d}x = 0$$\n",
    "\n",
    "for all $m, n\\in\\mathbb{Z}^{+}$,\n",
    "\n",
    "$$\\int_{-\\pi}^{\\pi}\\cos(nx)\\cos(mx)\\,\\textrm{d}x = \\left\\{ \\begin{array}{cc} \\pi & m, n\\in\\mathbb{Z}^{+} \\:\\textrm{ and }\\: m = n \\\\ 0 & \\textrm{otherwise} \\end{array} \\right.$$\n",
    "\n",
    "and\n",
    "\n",
    "$$\\int_{-\\pi}^{\\pi}\\sin(nx)\\sin(mx)\\,\\textrm{d}x = \\left\\{ \\begin{array}{cc} \\pi & m, n\\in\\mathbb{Z}^{+} \\:\\textrm{ and }\\: m = n \\\\ 0 & \\textrm{otherwise} \\end{array} \\right.$$\n",
    "\n",
    "The following trigonometric identities will be helpful:\n",
    "\n",
    "$$\\begin{aligned}\n",
    "2\\cos\\theta\\cos\\phi &= \\cos(\\theta - \\phi) + \\cos(\\theta + \\phi) \\\\\n",
    "2\\sin\\theta\\sin\\phi &= \\cos(\\theta - \\phi) - \\cos(\\theta + \\phi) \\\\\n",
    "2\\cos\\theta\\sin\\phi &= \\sin(\\theta + \\phi) - \\sin(\\theta - \\phi)\n",
    "\\end{aligned}$$"
   ]
  },
  {
   "cell_type": "markdown",
   "metadata": {},
   "source": [
    "# Problem 2\n",
    "\n",
    "Find the Fourier series of $f:[-\\pi, \\pi]\\to\\mathbb{R}$ such that $f(x) = x^2$.  Plot some representative partial sums of the Fourier series (i.e., plot the sum of the first $n$ Fourier modes for several different values of $n$).  Does this Fourier series converge to $f$ on the interval $(-\\pi, \\pi)$?  What about the interval $[-\\pi, \\pi]$?  What about on the whole real line?  If the series does not converge to $f$, what function does it converge to?"
   ]
  },
  {
   "cell_type": "markdown",
   "metadata": {},
   "source": [
    "# Problem 3\n",
    "\n",
    "Solve following initial-boundary value problem with separation of variables:\n",
    "\n",
    "$$\\begin{aligned}\n",
    "&u_t = 5u_{xx} \\:\\textrm{ for all }\\: -4 < x < 4 \\:\\textrm{ and }\\: t > 0 \\\\\n",
    "&u(t, -4) = u(t, 4) = 0 \\:\\textrm{ for all }\\: t > 0 \\\\\n",
    "&u(0, x) = f(x) \\:\\textrm{ for all }\\: -4 < x < 4\n",
    "\\end{aligned}$$\n",
    "\n",
    "where\n",
    "\n",
    "$$f(x) = \\left\\{ \\begin{array}{cc} x & -2 < x < 2 \\\\ 0 & \\textrm{otherwise} \\end{array} \\right.$$\n",
    "\n",
    "Plot the solution at several representative times.  (Your solution will be written as a Fourier series - you can plot partial sums with a reasonable number of terms.)"
   ]
  },
  {
   "cell_type": "markdown",
   "metadata": {},
   "source": [
    "# Problem 4\n",
    "\n",
    "## Part 1\n",
    "\n",
    "Solve the following initial-boundary value problem with separation of variables:\n",
    "\n",
    "$$\\begin{aligned}\n",
    "&u_t = 2u_{xx} \\:\\textrm{ for all }\\: 0 < x < 10 \\:\\textrm{ and }\\: t > 0 \\\\\n",
    "&u_x(t, 0) = u_x(t, 10) = 0 \\:\\textrm{ for all }\\: t > 0 \\\\\n",
    "&u(0, x) = 5 - x \\:\\textrm{ for all }\\: 0 < x < 10\n",
    "\\end{aligned}$$\n",
    "\n",
    "Plot the solution at several representative times.  (Your solution will be written as  Fourier series - you can plot partial sums with a reasonable number of terms.)\n",
    "\n",
    "## Part 2\n",
    "\n",
    "You should find that your solution is identical to that of the initial-boundary value problem\n",
    "\n",
    "$$\\begin{aligned}\n",
    "&u_t = 2u_{xx} \\:\\textrm{ for all }\\: -10 < x < 10 \\:\\textrm{ and }\\: t > 0 \\\\\n",
    "&u(t, -10) = u(t, 10) \\:\\textrm{ and }\\: u_x(t, -10) = u_x(t, 10) \\:\\textrm{ for all }\\: t > 0 \\\\\n",
    "&u(0, x) = f(x) \\:\\textrm{ for all }\\: -10 < x < 10\n",
    "\\end{aligned}$$\n",
    "\n",
    "for some choice of initial condition $f:[-10, 10]\\to\\mathbb{R}$.  What is the formula for this initial condition $f(x)$?  (You don't have to solve this PDE, although it may be useful to check your answer.)"
   ]
  },
  {
   "cell_type": "markdown",
   "metadata": {
    "pycharm": {
     "name": "#%% md\n"
    }
   },
   "source": [
    "# Problem 5 (503 only)\n",
    "\n",
    "Suppose that $u(t, x)$ is a non-constant solution to the heat equation with homogeneous Neumann boundary conditions:\n",
    "\n",
    "$$\\begin{aligned}\n",
    "&u_t = Du_{xx} \\:\\textrm{ for all }\\: 0 < x < L \\:\\textrm{ and }\\: t > 0 \\\\\n",
    "&u_x(t, 0) = u_x(t, L) = 0 \\:\\textrm{ for all }\\: t > 0\n",
    "\\end{aligned}$$\n",
    "\n",
    "## Part 1\n",
    "\n",
    "Prove that\n",
    "\n",
    "$$E(t) = \\int_{0}^{L}u(t, x)\\,\\textrm{d}x$$\n",
    "\n",
    "is constant.\n",
    "\n",
    "## Part 2\n",
    "\n",
    "Prove that\n",
    "\n",
    "$$H(t) = \\int_{0}^{L}u(t, x)^2\\,\\textrm{d}x$$\n",
    "\n",
    "is strictly decreasing."
   ]
  }
 ],
 "metadata": {
  "kernelspec": {
   "display_name": "Python 3",
   "language": "python",
   "name": "python3"
  },
  "language_info": {
   "codemirror_mode": {
    "name": "ipython",
    "version": 3
   },
   "file_extension": ".py",
   "mimetype": "text/x-python",
   "name": "python",
   "nbconvert_exporter": "python",
   "pygments_lexer": "ipython3",
   "version": "3.7.6"
  }
 },
 "nbformat": 4,
 "nbformat_minor": 4
}
